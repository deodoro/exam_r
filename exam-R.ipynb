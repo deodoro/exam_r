{
 "cells": [
  {
   "cell_type": "markdown",
   "metadata": {},
   "source": [
    "# Once you are finished with this test, please download your work as a Jupyter notebook and send it in <br><hr>"
   ]
  },
  {
   "cell_type": "markdown",
   "metadata": {},
   "source": [
    "## 1. Due to a processing error, your system is removing spaces from messages. For instance:"
   ]
  },
  {
   "cell_type": "code",
   "execution_count": 3,
   "metadata": {},
   "outputs": [],
   "source": [
    "received <- \"thefitnessofalinearmodel\"\n",
    "expected <- \"the fitness of a linear model\""
   ]
  },
  {
   "cell_type": "markdown",
   "metadata": {},
   "source": [
    "Write a function to revert messages to their original form, by adding proper spaces. You may start from this skeleton:"
   ]
  },
  {
   "cell_type": "code",
   "execution_count": 24,
   "metadata": {},
   "outputs": [],
   "source": [
    "unscramble <- function(message) {\n",
    "}"
   ]
  },
  {
   "cell_type": "markdown",
   "metadata": {},
   "source": [
    "You may use the following array as a simplified English dictionary"
   ]
  },
  {
   "cell_type": "code",
   "execution_count": 9,
   "metadata": {},
   "outputs": [],
   "source": [
    "custom_dict <- c(\"a\",\"body\",\"books\",\"but\",\"destination\",\"fit\",\"fitness\",\"friend\",\"friendship\",\"happy\",\"is\",\"it\",\"lack\",\"like\",\"linear\",\"love\",\"makes\",\"marriages\",\"mars\",\"model\",\"nation\",\"not\",\"of\",\"out\",\"room\",\"ship\",\"soul\",\"that\",\"the\",\"unhappy\",\"with\",\"without\")"
   ]
  },
  {
   "cell_type": "markdown",
   "metadata": {},
   "source": [
    "Furthermore, you may use the following tests to verify your work:"
   ]
  },
  {
   "cell_type": "code",
   "execution_count": 25,
   "metadata": {},
   "outputs": [
    {
     "name": "stderr",
     "output_type": "stream",
     "text": [
      "Updating HTML index of packages in '.Library'\n",
      "\n",
      "Making 'packages.html' ...\n",
      " done\n",
      "\n"
     ]
    },
    {
     "data": {
      "text/html": [
       "TRUE"
      ],
      "text/latex": [
       "TRUE"
      ],
      "text/markdown": [
       "TRUE"
      ],
      "text/plain": [
       "[1] TRUE"
      ]
     },
     "metadata": {},
     "output_type": "display_data"
    },
    {
     "ename": "ERROR",
     "evalue": "Error: unscramble(\"destination:mars\") not equal to \"destination: mars\"\n",
     "output_type": "error",
     "traceback": [
      "Error: unscramble(\"destination:mars\") not equal to \"destination: mars\"\nTraceback:\n",
      "1. assert_that(unscramble(\"destination:mars\") == \"destination: mars\")"
     ]
    }
   ],
   "source": [
    "install.packages('assertthat')\n",
    "library('assertthat')\n",
    "assert_that(unscramble(\"thefitnessofalinearmodel\") == \"the fitness of a linear model\")\n",
    "assert_that(unscramble(\"destination:mars\") == \"destination: mars\")\n",
    "assert_that(unscramble(\"aroomwithoutbooksislikeabodywithoutasoul\") == \"a room without books is like a body without a soul\")\n",
    "assert_that(unscramble(\"itisnotalackoflove,butalackoffriendshipthatmakesunhappymarriages\") == \"it is not a lack of love, but a lack of friendship that makes unhappy marriages\")"
   ]
  },
  {
   "cell_type": "markdown",
   "metadata": {},
   "source": [
    "## 2. [BONUS] Write a function that calculates the smallest angle (in degrees) between hour and minute hands of an analog clock."
   ]
  },
  {
   "cell_type": "code",
   "execution_count": 5,
   "metadata": {},
   "outputs": [],
   "source": [
    "shortest_angle <- function(time) {\n",
    "}"
   ]
  },
  {
   "cell_type": "markdown",
   "metadata": {},
   "source": [
    "You may use the following tests to verify your work:"
   ]
  },
  {
   "cell_type": "code",
   "execution_count": null,
   "metadata": {},
   "outputs": [],
   "source": [
    "assert_that(shortest_angle(\"5:30\") == 15)\n",
    "assert_that(shortest_angle(\"9:00\") == 90)\n",
    "assert_that(shortest_angle(\"12:00\") == 0)"
   ]
  }
 ],
 "metadata": {
  "kernelspec": {
   "display_name": "R",
   "language": "R",
   "name": "ir"
  },
  "language_info": {
   "codemirror_mode": "r",
   "file_extension": ".r",
   "mimetype": "text/x-r-source",
   "name": "R",
   "pygments_lexer": "r",
   "version": "4.0.0"
  }
 },
 "nbformat": 4,
 "nbformat_minor": 4
}
